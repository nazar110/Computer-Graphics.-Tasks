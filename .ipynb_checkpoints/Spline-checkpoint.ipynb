{
 "cells": [
  {
   "cell_type": "markdown",
   "metadata": {},
   "source": [
    "### Кубічний сплайн для ациклічних умов "
   ]
  },
  {
   "cell_type": "code",
   "execution_count": 3,
   "metadata": {},
   "outputs": [],
   "source": [
    "import numpy as np\n",
    "import matplotlib.pyplot as plt\n",
    "import scipy as sp"
   ]
  },
  {
   "cell_type": "code",
   "execution_count": 4,
   "metadata": {},
   "outputs": [
    {
     "name": "stdout",
     "output_type": "stream",
     "text": [
      "[[ 4.          1.          0.         -1.          0.        ]\n",
      " [ 7.07106781 28.28427125  7.07106781  0.          0.        ]\n",
      " [ 0.          7.07106781 28.28427125  7.07106781  0.        ]\n",
      " [ 0.          0.          7.07106781 28.28427125  7.07106781]\n",
      " [ 0.          0.          0.          1.          0.        ]]\n"
     ]
    },
    {
     "data": {
      "image/png": "[encoded data removed]",
      "text/plain": [
       "<Figure size 432x288 with 1 Axes>"
      ]
     },
     "metadata": {
      "needs_background": "light"
     },
     "output_type": "display_data"
    }
   ],
   "source": [
    "p_k = np.array([[0,5],[5,10],[10,5],[5,0],[0,5]], dtype=\"float\") # list of rows\n",
    "\n",
    "t_k = [np.sqrt((p_k[i][0] - p_k[i-1][0])**2 + (p_k[i][1] - p_k[i-1][1])**2 ) for i in range(1, len(p_k))]\n",
    "t_k.insert(0, -1)\n",
    "t_k = np.array(t_k, dtype=\"float\")\n",
    "\n",
    "M = np.zeros((len(p_k), len(p_k)), dtype=\"float\") # making matrix of n*n\n",
    "\n",
    "M[0,0] = 2*(1 + t_k[-1]/t_k[1])\n",
    "M[0,1] = t_k[-1]/t_k[1]\n",
    "M[-1,-2] = t_k[-1]/t_k[1]\n",
    "M[0, -2] = -1\n",
    "\n",
    "\n",
    "for i in range(2, len(t_k)):\n",
    "    M[i-1, i-2] = t_k[i]\n",
    "    M[i-1, i-1] = 2 * (t_k[i] + t_k[i - 1])\n",
    "    M[i-1, i] = t_k[i-1]\n",
    "\n",
    "\n",
    "print(M)\n",
    "    \n",
    "R = np.array([[0,0] for x in range(len(p_k))], dtype=\"float\")\n",
    "R[0] = 3*(t_k[-1]/t_k[1]**2)*(p_k[1]-p_k[0]) - 3/t_k[-1]*(p_k[-2] - p_k[-1])\n",
    "\n",
    "for i in range(2, len(t_k)):\n",
    "    k = 3./(t_k[i-1] * t_k[i])\n",
    "    R[i-1] = k * (t_k[i-1]**2 * (p_k[i] - p_k[i-1]) + t_k[i]**2 * (p_k[i-1] - p_k[i-2]))\n",
    "\n",
    "dp_k = np.linalg.inv(M) @ R\n",
    "\n",
    "\n",
    "def value(x, k):\n",
    "    k = k - 1\n",
    "    F_k = np.array([0,0,0,0], dtype=\"float\")\n",
    "    F_k[0] = 2*x**3 - 3*x**2 + 1\n",
    "    F_k[1] = -2*x**3 + 3*x**2\n",
    "    F_k[2] = x*(x**2 - 2*x + 1)*t_k[k+1]\n",
    "    F_k[3] = x*(x**2 - x)*t_k[k+1]\n",
    "       \n",
    "    G = np.array([p_k[k], p_k[k+1], dp_k[k], dp_k[k+1]])\n",
    "    return F_k @ G\n",
    "        \n",
    "taus = np.linspace(0, 1, 100);\n",
    "segments = list(range(1, len(p_k)))\n",
    "\n",
    "for i in range(0, len(segments)):\n",
    "    points = [value(tau, segments[i]) for tau in taus]\n",
    "    x = [point[0] for point in points]\n",
    "    y = [point[1] for point in points]\n",
    "    \n",
    "    x_given = [i[0] for i in p_k]\n",
    "    y_given = [i[1] for i in p_k]\n",
    "    plt.plot(x_given, y_given, 'o', x, y)\n",
    "    if i == 3: break\n",
    "plt.grid(True)"
   ]
  },
  {
   "cell_type": "code",
   "execution_count": null,
   "metadata": {},
   "outputs": [],
   "source": []
  }
 ],
 "metadata": {
  "kernelspec": {
   "display_name": "Python 3",
   "language": "python",
   "name": "python3"
  },
  "language_info": {
   "codemirror_mode": {
    "name": "ipython",
    "version": 3
   },
   "file_extension": ".py",
   "mimetype": "text/x-python",
   "name": "python",
   "nbconvert_exporter": "python",
   "pygments_lexer": "ipython3",
   "version": "3.7.3"
  }
 },
 "nbformat": 4,
 "nbformat_minor": 2
}
